{
 "cells": [
  {
   "cell_type": "markdown",
   "metadata": {},
   "source": [
    "# WallSlave\r\n",
    "\r\n",
    "**Autor:** Breno Araújo Junqueira - Wineano\r\n",
    "\r\n",
    "**Descrição:** Esse é um notebook para automatização de transferências de itens entre filiais pela plataforma Wall da Wine. Os scripts são escritos em Python e utiliza uma API da Selenium para automatização de aplicações na web. Essa ferramenta nos permite simular cliques e digitações em um website HTML. \r\n",
    "\r\n",
    "Para seu uso, devem ser seguidos os passos abaixo:\r\n"
   ]
  },
  {
   "cell_type": "markdown",
   "metadata": {},
   "source": [
    "## Passo 0:\r\n",
    "\r\n",
    "Faça o download do Webdriver do seu navegador. Aqui mstrarei usando o chrome. Link para download do lastest stable release: https://chromedriver.chromium.org/. Cole o aplicativo instalado no C:\\Program Files (x86)"
   ]
  },
  {
   "cell_type": "markdown",
   "metadata": {},
   "source": [
    "## Passo 1:\n",
    "\n",
    "Rode a célula abaixo para instalar a API Selenium."
   ]
  },
  {
   "cell_type": "code",
   "execution_count": 1,
   "metadata": {
    "colab": {
     "base_uri": "https://localhost:8080/",
     "height": 467
    },
    "id": "xFOBba8cHr0B",
    "outputId": "51bec196-d3a4-495b-f0c9-268d356b755a",
    "scrolled": false
   },
   "outputs": [],
   "source": [
    "#!pip install -U selenium"
   ]
  },
  {
   "cell_type": "markdown",
   "metadata": {},
   "source": [
    "## Passo 2:\r\n",
    "\r\n",
    "Rode as célula abaixo para instalar bibliotecas e importar o arquivo Excel com os dados de transferência a partir da caixa de diálogo que aparecerá.\r\n",
    "\r\n",
    "Para correto funcionamento do código, o arquivo Excel deve conter as seguintes características:\r\n",
    "\r\n",
    "* As abas devem conter o nome \"Loja\" para solicitações da loja Wine e \"VF\" para solicitções da Vinho Fácil.\r\n",
    "* A primeira coluna deve conter os SKUs\r\n",
    "* A segunda coluna deve conter as descrições\r\n",
    "* A terceira coluna deve conter as quantidades solicitadas\r\n",
    "* As demais colunas são opcionais e não serão usadas no código.\r\n",
    "\r\n",
    "O modelo de planilha pode ser encontrado em: https://drive.google.com/file/d/1I39SB6dakO7eI_JvOHeMTCOCo6G1VUNb/view?usp=sharing"
   ]
  },
  {
   "cell_type": "code",
   "execution_count": 8,
   "metadata": {},
   "outputs": [],
   "source": [
    "#janela openfile p/abrir o excel padrão\r\n",
    "import pandas as pd\r\n",
    "import tkinter\r\n",
    "from tkinter import Tk   \r\n",
    "from tkinter.filedialog import askopenfilename"
   ]
  },
  {
   "cell_type": "code",
   "execution_count": 3,
   "metadata": {},
   "outputs": [
    {
     "name": "stdout",
     "output_type": "stream",
     "text": [
      "C:/Users/Breno Junqueira/Downloads/TransfsCOMEX31.05.xlsx\n"
     ]
    }
   ],
   "source": [
    "filename = askopenfilename()              # escolha o arquivo com as demandas de transferência dentro do padrão\n",
    "print(filename)"
   ]
  },
  {
   "cell_type": "markdown",
   "metadata": {},
   "source": [
    "## Passo 3: \r\n",
    "\r\n",
    "Rode a célula abaixo e escreva o nome da Aba (Loja ou VF) que deseja inserir no wall. Pressione Enter para concluir"
   ]
  },
  {
   "cell_type": "code",
   "execution_count": 4,
   "metadata": {},
   "outputs": [
    {
     "name": "stdout",
     "output_type": "stream",
     "text": [
      "SELECIONE A LOJA DESTINO:\n"
     ]
    }
   ],
   "source": [
    "print('SELECIONE A LOJA DESTINO:')  #digite VF para Vinho Fácil ou Loja para Loja Wine\n",
    "loja = input()\n",
    "df = pd.read_excel(filename,sheet_name=loja)"
   ]
  },
  {
   "cell_type": "markdown",
   "metadata": {},
   "source": [
    "## Passo 4:\r\n",
    " Rode a célula abaixo para a verificar a lista de itens e quantidades inserida."
   ]
  },
  {
   "cell_type": "code",
   "execution_count": 5,
   "metadata": {},
   "outputs": [],
   "source": [
    "size = len(df)\r\n",
    "#df.loc[:,'SKU']\r\n",
    "#print(df.dtypes)\r\n",
    "#print(df.Rótulo)\r\n",
    "\r\n",
    "#df.iloc[0][0]\r\n",
    "#df.at[1,'SKU']"
   ]
  },
  {
   "cell_type": "code",
   "execution_count": 9,
   "metadata": {},
   "outputs": [
    {
     "data": {
      "text/html": "<div>\n<style scoped>\n    .dataframe tbody tr th:only-of-type {\n        vertical-align: middle;\n    }\n\n    .dataframe tbody tr th {\n        vertical-align: top;\n    }\n\n    .dataframe thead th {\n        text-align: right;\n    }\n</style>\n<table border=\"1\" class=\"dataframe\">\n  <thead>\n    <tr style=\"text-align: right;\">\n      <th></th>\n      <th>SKU</th>\n      <th>Rótulo</th>\n      <th>QNT.</th>\n      <th>Transferido</th>\n      <th>1- 1 COMEX</th>\n      <th>DESFLEGAR CLUBE</th>\n      <th>p\\ LOJA</th>\n      <th>flegar clube</th>\n      <th>Disponível</th>\n    </tr>\n  </thead>\n  <tbody>\n    <tr>\n      <th>0</th>\n      <td>25053</td>\n      <td>Almaviva Epu 2017</td>\n      <td>30</td>\n      <td>0.0</td>\n      <td>NaN</td>\n      <td>NaN</td>\n      <td>NaN</td>\n      <td>NaN</td>\n      <td>0.0</td>\n    </tr>\n    <tr>\n      <th>1</th>\n      <td>25368</td>\n      <td>Apothic Dark Red Blend 2017</td>\n      <td>300</td>\n      <td>0.0</td>\n      <td>NaN</td>\n      <td>NaN</td>\n      <td>NaN</td>\n      <td>NaN</td>\n      <td>0.0</td>\n    </tr>\n    <tr>\n      <th>2</th>\n      <td>24373</td>\n      <td>Apothic Red 2018</td>\n      <td>300</td>\n      <td>0.0</td>\n      <td>NaN</td>\n      <td>NaN</td>\n      <td>NaN</td>\n      <td>NaN</td>\n      <td>0.0</td>\n    </tr>\n    <tr>\n      <th>3</th>\n      <td>25552</td>\n      <td>Artefacto Branco 2019</td>\n      <td>24</td>\n      <td>0.0</td>\n      <td>NaN</td>\n      <td>NaN</td>\n      <td>NaN</td>\n      <td>NaN</td>\n      <td>0.0</td>\n    </tr>\n    <tr>\n      <th>4</th>\n      <td>24894</td>\n      <td>Artefacto D.O.C. Vinho Verde 2019</td>\n      <td>360</td>\n      <td>0.0</td>\n      <td>NaN</td>\n      <td>NaN</td>\n      <td>NaN</td>\n      <td>NaN</td>\n      <td>0.0</td>\n    </tr>\n    <tr>\n      <th>...</th>\n      <td>...</td>\n      <td>...</td>\n      <td>...</td>\n      <td>...</td>\n      <td>...</td>\n      <td>...</td>\n      <td>...</td>\n      <td>...</td>\n      <td>...</td>\n    </tr>\n    <tr>\n      <th>185</th>\n      <td>23500</td>\n      <td>Velar Primitivo Di Manduria Doc 2016</td>\n      <td>12</td>\n      <td>NaN</td>\n      <td>NaN</td>\n      <td>NaN</td>\n      <td>NaN</td>\n      <td>NaN</td>\n      <td>NaN</td>\n    </tr>\n    <tr>\n      <th>186</th>\n      <td>24168</td>\n      <td>Viña Bouchon País Salvaje 2019</td>\n      <td>1</td>\n      <td>NaN</td>\n      <td>NaN</td>\n      <td>NaN</td>\n      <td>NaN</td>\n      <td>NaN</td>\n      <td>NaN</td>\n    </tr>\n    <tr>\n      <th>187</th>\n      <td>25010</td>\n      <td>Viña Labrada D.O.P. Cariñena Tempranillo 2019</td>\n      <td>90</td>\n      <td>NaN</td>\n      <td>NaN</td>\n      <td>NaN</td>\n      <td>NaN</td>\n      <td>NaN</td>\n      <td>NaN</td>\n    </tr>\n    <tr>\n      <th>188</th>\n      <td>25385</td>\n      <td>Ímpetu Cabernet Sauvignon</td>\n      <td>1200</td>\n      <td>NaN</td>\n      <td>NaN</td>\n      <td>NaN</td>\n      <td>NaN</td>\n      <td>NaN</td>\n      <td>NaN</td>\n    </tr>\n    <tr>\n      <th>189</th>\n      <td>25390</td>\n      <td>Ímpetu Sauvignon Blanc</td>\n      <td>60</td>\n      <td>NaN</td>\n      <td>NaN</td>\n      <td>NaN</td>\n      <td>NaN</td>\n      <td>NaN</td>\n      <td>NaN</td>\n    </tr>\n  </tbody>\n</table>\n<p>190 rows × 9 columns</p>\n</div>",
      "text/plain": "      SKU                                          Rótulo  QNT.  Transferido  \\\n0    25053                              Almaviva Epu 2017    30          0.0   \n1    25368                    Apothic Dark Red Blend 2017   300          0.0   \n2    24373                               Apothic Red 2018   300          0.0   \n3    25552                          Artefacto Branco 2019    24          0.0   \n4    24894              Artefacto D.O.C. Vinho Verde 2019   360          0.0   \n..     ...                                            ...   ...          ...   \n185  23500           Velar Primitivo Di Manduria Doc 2016    12          NaN   \n186  24168                 Viña Bouchon País Salvaje 2019     1          NaN   \n187  25010  Viña Labrada D.O.P. Cariñena Tempranillo 2019    90          NaN   \n188  25385                      Ímpetu Cabernet Sauvignon  1200          NaN   \n189  25390                         Ímpetu Sauvignon Blanc    60          NaN   \n\n     1- 1 COMEX  DESFLEGAR CLUBE  p\\ LOJA  flegar clube  Disponível  \n0           NaN              NaN      NaN           NaN         0.0  \n1           NaN              NaN      NaN           NaN         0.0  \n2           NaN              NaN      NaN           NaN         0.0  \n3           NaN              NaN      NaN           NaN         0.0  \n4           NaN              NaN      NaN           NaN         0.0  \n..          ...              ...      ...           ...         ...  \n185         NaN              NaN      NaN           NaN         NaN  \n186         NaN              NaN      NaN           NaN         NaN  \n187         NaN              NaN      NaN           NaN         NaN  \n188         NaN              NaN      NaN           NaN         NaN  \n189         NaN              NaN      NaN           NaN         NaN  \n\n[190 rows x 9 columns]"
     },
     "execution_count": 9,
     "metadata": {},
     "output_type": "execute_result"
    }
   ],
   "source": [
    "df"
   ]
  },
  {
   "cell_type": "markdown",
   "metadata": {},
   "source": [
    "## Passo 5:\r\n",
    "\r\n",
    " Rode a célula abaixo para importar as APIs Selenium necessárias"
   ]
  },
  {
   "cell_type": "code",
   "execution_count": 6,
   "metadata": {},
   "outputs": [],
   "source": [
    "import time\n",
    "import selenium\n",
    "from selenium import webdriver\n",
    "from selenium.webdriver.common.keys import Keys\n",
    "from selenium.webdriver.common.by import By\n",
    "from selenium.webdriver.support.ui import WebDriverWait\n",
    "from selenium.webdriver.support import expected_conditions as EC"
   ]
  },
  {
   "cell_type": "markdown",
   "metadata": {},
   "source": [
    "## Passo 6: \r\n",
    "\r\n",
    "Rode a célula abixo para abrir a nova janela controlada pela API onde será realizada a automação. Se necessário entrar com sua conta google."
   ]
  },
  {
   "cell_type": "code",
   "execution_count": 7,
   "metadata": {},
   "outputs": [],
   "source": [
    "#ABRE PÁGINA DO WALL\r\n",
    "driver = webdriver.Chrome(executable_path=\"C:\\Program Files (x86)\\chromedriver2\")\r\n",
    "driver.get(\"https://wall.wine.com.br/index.html\")\r\n",
    "\r\n",
    "time.sleep(7)\r\n",
    "\r\n",
    "try:\r\n",
    "    element = WebDriverWait(driver,20).until(\r\n",
    "        EC.presence_of_element_located((By.ID,\"signin-button\"))\r\n",
    "    )\r\n",
    "finally:\r\n",
    "    #CLICANDO P/ LOGAR NO GOOGLE - EMAIL E SENHA MANUAIS\r\n",
    "    login = driver.find_element_by_id(\"signin-button\")\r\n",
    "    login.send_keys(Keys.RETURN)\r\n",
    "\r\n",
    "\r\n"
   ]
  },
  {
   "cell_type": "markdown",
   "metadata": {},
   "source": [
    "## Passo 7: \r\n",
    "Rode a célula abixo para abrir o menu literal e selecionar transferência de estoque. Essa etapa pode dar erro. Caso acontesa, faça-a manualmente com se fosse transferir manualmente."
   ]
  },
  {
   "cell_type": "code",
   "execution_count": 7,
   "metadata": {},
   "outputs": [
    {
     "ename": "NoSuchElementException",
     "evalue": "Message: no such element: Unable to locate element: {\"method\":\"css selector\",\"selector\":\"a\"}\n  (Session info: chrome=90.0.4430.212)\n",
     "output_type": "error",
     "traceback": [
      "\u001b[1;31m---------------------------------------------------------------------------\u001b[0m",
      "\u001b[1;31mNoSuchElementException\u001b[0m                    Traceback (most recent call last)",
      "\u001b[1;32m<ipython-input-7-bd352369a790>\u001b[0m in \u001b[0;36m<module>\u001b[1;34m\u001b[0m\n\u001b[0;32m      1\u001b[0m \u001b[1;31m#OPERANDO NO MENU LATERAL: CADASTRO>>TRANSFERÊNCIA DE ESTOQUE - MANUAL\u001b[0m\u001b[1;33m\u001b[0m\u001b[1;33m\u001b[0m\u001b[1;33m\u001b[0m\u001b[0m\n\u001b[1;32m----> 2\u001b[1;33m \u001b[0mcadastrotreeview\u001b[0m \u001b[1;33m=\u001b[0m \u001b[0mdriver\u001b[0m\u001b[1;33m.\u001b[0m\u001b[0mfind_element_by_tag_name\u001b[0m\u001b[1;33m(\u001b[0m\u001b[1;34m\"a\"\u001b[0m\u001b[1;33m)\u001b[0m\u001b[1;33m\u001b[0m\u001b[1;33m\u001b[0m\u001b[0m\n\u001b[0m\u001b[0;32m      3\u001b[0m \u001b[0mcadastrotreeview\u001b[0m\u001b[1;33m.\u001b[0m\u001b[0msend_keys\u001b[0m\u001b[1;33m(\u001b[0m\u001b[0mKeys\u001b[0m\u001b[1;33m.\u001b[0m\u001b[0mRETURN\u001b[0m\u001b[1;33m)\u001b[0m\u001b[1;33m\u001b[0m\u001b[1;33m\u001b[0m\u001b[0m\n\u001b[0;32m      4\u001b[0m \u001b[1;33m\u001b[0m\u001b[0m\n\u001b[0;32m      5\u001b[0m \u001b[0mtestoque\u001b[0m\u001b[1;33m=\u001b[0m \u001b[0mdriver\u001b[0m\u001b[1;33m.\u001b[0m\u001b[0mfind_element_by_xpath\u001b[0m\u001b[1;33m(\u001b[0m\u001b[1;34m'//*[@id=\"menu\"]/ul/li[2]/ul/li/a'\u001b[0m\u001b[1;33m)\u001b[0m\u001b[1;33m\u001b[0m\u001b[1;33m\u001b[0m\u001b[0m\n",
      "\u001b[1;32mC:\\users\\breno junqueira\\appdata\\roaming\\python\\python38\\site-packages\\selenium\\webdriver\\remote\\webdriver.py\u001b[0m in \u001b[0;36mfind_element_by_tag_name\u001b[1;34m(self, name)\u001b[0m\n\u001b[0;32m    528\u001b[0m             \u001b[0melement\u001b[0m \u001b[1;33m=\u001b[0m \u001b[0mdriver\u001b[0m\u001b[1;33m.\u001b[0m\u001b[0mfind_element_by_tag_name\u001b[0m\u001b[1;33m(\u001b[0m\u001b[1;34m'h1'\u001b[0m\u001b[1;33m)\u001b[0m\u001b[1;33m\u001b[0m\u001b[1;33m\u001b[0m\u001b[0m\n\u001b[0;32m    529\u001b[0m         \"\"\"\n\u001b[1;32m--> 530\u001b[1;33m         \u001b[1;32mreturn\u001b[0m \u001b[0mself\u001b[0m\u001b[1;33m.\u001b[0m\u001b[0mfind_element\u001b[0m\u001b[1;33m(\u001b[0m\u001b[0mby\u001b[0m\u001b[1;33m=\u001b[0m\u001b[0mBy\u001b[0m\u001b[1;33m.\u001b[0m\u001b[0mTAG_NAME\u001b[0m\u001b[1;33m,\u001b[0m \u001b[0mvalue\u001b[0m\u001b[1;33m=\u001b[0m\u001b[0mname\u001b[0m\u001b[1;33m)\u001b[0m\u001b[1;33m\u001b[0m\u001b[1;33m\u001b[0m\u001b[0m\n\u001b[0m\u001b[0;32m    531\u001b[0m \u001b[1;33m\u001b[0m\u001b[0m\n\u001b[0;32m    532\u001b[0m     \u001b[1;32mdef\u001b[0m \u001b[0mfind_elements_by_tag_name\u001b[0m\u001b[1;33m(\u001b[0m\u001b[0mself\u001b[0m\u001b[1;33m,\u001b[0m \u001b[0mname\u001b[0m\u001b[1;33m)\u001b[0m\u001b[1;33m:\u001b[0m\u001b[1;33m\u001b[0m\u001b[1;33m\u001b[0m\u001b[0m\n",
      "\u001b[1;32mC:\\users\\breno junqueira\\appdata\\roaming\\python\\python38\\site-packages\\selenium\\webdriver\\remote\\webdriver.py\u001b[0m in \u001b[0;36mfind_element\u001b[1;34m(self, by, value)\u001b[0m\n\u001b[0;32m    974\u001b[0m                 \u001b[0mby\u001b[0m \u001b[1;33m=\u001b[0m \u001b[0mBy\u001b[0m\u001b[1;33m.\u001b[0m\u001b[0mCSS_SELECTOR\u001b[0m\u001b[1;33m\u001b[0m\u001b[1;33m\u001b[0m\u001b[0m\n\u001b[0;32m    975\u001b[0m                 \u001b[0mvalue\u001b[0m \u001b[1;33m=\u001b[0m \u001b[1;34m'[name=\"%s\"]'\u001b[0m \u001b[1;33m%\u001b[0m \u001b[0mvalue\u001b[0m\u001b[1;33m\u001b[0m\u001b[1;33m\u001b[0m\u001b[0m\n\u001b[1;32m--> 976\u001b[1;33m         return self.execute(Command.FIND_ELEMENT, {\n\u001b[0m\u001b[0;32m    977\u001b[0m             \u001b[1;34m'using'\u001b[0m\u001b[1;33m:\u001b[0m \u001b[0mby\u001b[0m\u001b[1;33m,\u001b[0m\u001b[1;33m\u001b[0m\u001b[1;33m\u001b[0m\u001b[0m\n\u001b[0;32m    978\u001b[0m             'value': value})['value']\n",
      "\u001b[1;32mC:\\users\\breno junqueira\\appdata\\roaming\\python\\python38\\site-packages\\selenium\\webdriver\\remote\\webdriver.py\u001b[0m in \u001b[0;36mexecute\u001b[1;34m(self, driver_command, params)\u001b[0m\n\u001b[0;32m    319\u001b[0m         \u001b[0mresponse\u001b[0m \u001b[1;33m=\u001b[0m \u001b[0mself\u001b[0m\u001b[1;33m.\u001b[0m\u001b[0mcommand_executor\u001b[0m\u001b[1;33m.\u001b[0m\u001b[0mexecute\u001b[0m\u001b[1;33m(\u001b[0m\u001b[0mdriver_command\u001b[0m\u001b[1;33m,\u001b[0m \u001b[0mparams\u001b[0m\u001b[1;33m)\u001b[0m\u001b[1;33m\u001b[0m\u001b[1;33m\u001b[0m\u001b[0m\n\u001b[0;32m    320\u001b[0m         \u001b[1;32mif\u001b[0m \u001b[0mresponse\u001b[0m\u001b[1;33m:\u001b[0m\u001b[1;33m\u001b[0m\u001b[1;33m\u001b[0m\u001b[0m\n\u001b[1;32m--> 321\u001b[1;33m             \u001b[0mself\u001b[0m\u001b[1;33m.\u001b[0m\u001b[0merror_handler\u001b[0m\u001b[1;33m.\u001b[0m\u001b[0mcheck_response\u001b[0m\u001b[1;33m(\u001b[0m\u001b[0mresponse\u001b[0m\u001b[1;33m)\u001b[0m\u001b[1;33m\u001b[0m\u001b[1;33m\u001b[0m\u001b[0m\n\u001b[0m\u001b[0;32m    322\u001b[0m             response['value'] = self._unwrap_value(\n\u001b[0;32m    323\u001b[0m                 response.get('value', None))\n",
      "\u001b[1;32mC:\\users\\breno junqueira\\appdata\\roaming\\python\\python38\\site-packages\\selenium\\webdriver\\remote\\errorhandler.py\u001b[0m in \u001b[0;36mcheck_response\u001b[1;34m(self, response)\u001b[0m\n\u001b[0;32m    240\u001b[0m                 \u001b[0malert_text\u001b[0m \u001b[1;33m=\u001b[0m \u001b[0mvalue\u001b[0m\u001b[1;33m[\u001b[0m\u001b[1;34m'alert'\u001b[0m\u001b[1;33m]\u001b[0m\u001b[1;33m.\u001b[0m\u001b[0mget\u001b[0m\u001b[1;33m(\u001b[0m\u001b[1;34m'text'\u001b[0m\u001b[1;33m)\u001b[0m\u001b[1;33m\u001b[0m\u001b[1;33m\u001b[0m\u001b[0m\n\u001b[0;32m    241\u001b[0m             \u001b[1;32mraise\u001b[0m \u001b[0mexception_class\u001b[0m\u001b[1;33m(\u001b[0m\u001b[0mmessage\u001b[0m\u001b[1;33m,\u001b[0m \u001b[0mscreen\u001b[0m\u001b[1;33m,\u001b[0m \u001b[0mstacktrace\u001b[0m\u001b[1;33m,\u001b[0m \u001b[0malert_text\u001b[0m\u001b[1;33m)\u001b[0m\u001b[1;33m\u001b[0m\u001b[1;33m\u001b[0m\u001b[0m\n\u001b[1;32m--> 242\u001b[1;33m         \u001b[1;32mraise\u001b[0m \u001b[0mexception_class\u001b[0m\u001b[1;33m(\u001b[0m\u001b[0mmessage\u001b[0m\u001b[1;33m,\u001b[0m \u001b[0mscreen\u001b[0m\u001b[1;33m,\u001b[0m \u001b[0mstacktrace\u001b[0m\u001b[1;33m)\u001b[0m\u001b[1;33m\u001b[0m\u001b[1;33m\u001b[0m\u001b[0m\n\u001b[0m\u001b[0;32m    243\u001b[0m \u001b[1;33m\u001b[0m\u001b[0m\n\u001b[0;32m    244\u001b[0m     \u001b[1;32mdef\u001b[0m \u001b[0m_value_or_default\u001b[0m\u001b[1;33m(\u001b[0m\u001b[0mself\u001b[0m\u001b[1;33m,\u001b[0m \u001b[0mobj\u001b[0m\u001b[1;33m,\u001b[0m \u001b[0mkey\u001b[0m\u001b[1;33m,\u001b[0m \u001b[0mdefault\u001b[0m\u001b[1;33m)\u001b[0m\u001b[1;33m:\u001b[0m\u001b[1;33m\u001b[0m\u001b[1;33m\u001b[0m\u001b[0m\n",
      "\u001b[1;31mNoSuchElementException\u001b[0m: Message: no such element: Unable to locate element: {\"method\":\"css selector\",\"selector\":\"a\"}\n  (Session info: chrome=90.0.4430.212)\n"
     ]
    }
   ],
   "source": [
    "#OPERANDO NO MENU LATERAL: CADASTRO>>TRANSFERÊNCIA DE ESTOQUE - MANUAL\n",
    "cadastrotreeview = driver.find_element_by_tag_name(\"a\")\n",
    "cadastrotreeview.send_keys(Keys.RETURN)\n",
    "\n",
    "testoque= driver.find_element_by_xpath('//*[@id=\"menu\"]/ul/li[2]/ul/li/a')\n",
    "###############Ahhhhhhhhhhhhhh   testoque.send_keys(Keys.RETURN)"
   ]
  },
  {
   "cell_type": "markdown",
   "metadata": {},
   "source": [
    "## Passo 8: \r\n",
    "Rode a célula abixo para abrir inserir a origem, destino e canal da trasnferência (Passo 1 do Wall)."
   ]
  },
  {
   "cell_type": "code",
   "execution_count": 12,
   "metadata": {},
   "outputs": [],
   "source": [
    "#ESCOLHENDO ORIGENS E DESTINOS\n",
    "filialO = driver.find_element_by_id(\"cbx-company-from\")\n",
    "filialO.send_keys(\"[5] -\")\n",
    "filialO.send_keys(Keys.RETURN)\n",
    "\n",
    "time.sleep(2)\n",
    "\n",
    "filialD = driver.find_element_by_id(\"cbx-company-to\")\n",
    "filialD.send_keys(Keys.ARROW_DOWN)\n",
    "filialD.send_keys(Keys.RETURN)\n",
    "\n",
    "time.sleep(2)\n",
    "\n",
    "almoxD = driver.find_element_by_id(\"cbx-store\")\n",
    "almoxD.send_keys(Keys.ARROW_DOWN)\n",
    "if loja ==\"VF\":\n",
    "    almoxD.send_keys(Keys.ARROW_DOWN)\n",
    "almoxD.send_keys(Keys.RETURN)\n",
    "\n",
    "time.sleep(2)\n",
    "\n",
    "proximo= driver.find_element_by_link_text(\"Próximo\")\n",
    "proximo.send_keys(Keys.RETURN)\n"
   ]
  },
  {
   "cell_type": "markdown",
   "metadata": {},
   "source": [
    "## Passo 9: \r\n",
    "Esse é o passo mais importante e de fato o que vai economizar seu tempo. Rode a célula abixo para executar o looping de comandos que opera o wall conforme a lista aqui inserida."
   ]
  },
  {
   "cell_type": "code",
   "execution_count": null,
   "metadata": {},
   "outputs": [],
   "source": [
    "size = len(df)\n",
    "\n",
    "for i in range(int(size)): \n",
    "    inserir = driver.find_element_by_tag_name(\"button\")\n",
    "    inserir.click()\n",
    "    \n",
    "    time.sleep(3)\n",
    "    \n",
    "    sku = df.iloc[i][0]  \n",
    "    qnt = df.iloc[i][2] \n",
    "    \n",
    "    camposeta = driver.find_element_by_xpath('//*[@id=\"formDados\"]/div/div[2]/div[1]/div[1]/div/span[1]')\n",
    "    camposeta.click()\n",
    "    \n",
    "    camposku = driver.find_element_by_class_name(\"select2-search__field\")\n",
    "    camposku.send_keys(str(int(sku)))\n",
    "    time.sleep(4)\n",
    "    camposku.send_keys(Keys.RETURN)\n",
    "    time.sleep(4)\n",
    "    campoqnt = driver.find_element_by_id(\"txt-quantity\")\n",
    "    campoqnt.send_keys(str(int(qnt)))\n",
    "    time.sleep(4)\n",
    "    campoqnt.send_keys(Keys.RETURN)\n",
    "    time.sleep(4)\n",
    "    \n",
    "    \n",
    "    "
   ]
  },
  {
   "cell_type": "markdown",
   "metadata": {},
   "source": [
    "## OBSERVAÔES IMPORTANTES:\r\n",
    "\r\n",
    "Alguns erros podem ocorrer se:\r\n",
    "- Houver saldo insuficiente;\r\n",
    "- O item estiver com flag desabilitado ou estiver com flag do clube;\r\n",
    "- Se a página do Wall demorar mais que o tempo entre comandos determinado. Esse tempo entre comandos pode ser modificado conforme sua necessidade alterando o número de segundos nas funções \"time.sleep()\" do script acima. Mas lembre que, se for mais curto que o carregamento do Wall teremos erro.\r\n"
   ]
  },
  {
   "cell_type": "code",
   "execution_count": null,
   "metadata": {},
   "outputs": [],
   "source": [
    "driver.quit()"
   ]
  }
 ],
 "metadata": {
  "colab": {
   "name": "Seleniumtest.ipynb",
   "provenance": []
  },
  "kernelspec": {
   "display_name": "Python 3.9.1 64-bit",
   "name": "python391jvsc74a57bd03480cd30c1f9289f3d1112bf762fb1d7f8f95f9e2a3560e352d38e68e4c6dd0b"
  },
  "language_info": {
   "codemirror_mode": {
    "name": "ipython",
    "version": 3
   },
   "file_extension": ".py",
   "mimetype": "text/x-python",
   "name": "python",
   "nbconvert_exporter": "python",
   "pygments_lexer": "ipython3",
   "version": "3.9.1"
  },
  "metadata": {
   "interpreter": {
    "hash": "3480cd30c1f9289f3d1112bf762fb1d7f8f95f9e2a3560e352d38e68e4c6dd0b"
   }
  }
 },
 "nbformat": 4,
 "nbformat_minor": 1
}